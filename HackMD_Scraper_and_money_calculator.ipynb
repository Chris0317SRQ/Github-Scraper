{
  "nbformat": 4,
  "nbformat_minor": 0,
  "metadata": {
    "colab": {
      "name": "HackMD Scraper and money calculator",
      "provenance": [],
      "authorship_tag": "ABX9TyMDNCbulYHLDcKxqZJ0y6nF",
      "include_colab_link": true
    },
    "kernelspec": {
      "name": "python3",
      "display_name": "Python 3"
    },
    "language_info": {
      "name": "python"
    },
    "accelerator": "TPU"
  },
  "cells": [
    {
      "cell_type": "markdown",
      "metadata": {
        "id": "view-in-github",
        "colab_type": "text"
      },
      "source": [
        "<a href=\"https://colab.research.google.com/github/Chris0317SRQ/Github-Scraper/blob/main/HackMD_Scraper_and_money_calculator.ipynb\" target=\"_parent\"><img src=\"https://colab.research.google.com/assets/colab-badge.svg\" alt=\"Open In Colab\"/></a>"
      ]
    },
    {
      "cell_type": "code",
      "metadata": {
        "colab": {
          "base_uri": "https://localhost:8080/"
        },
        "id": "msTP_SBSvAM-",
        "outputId": "bbebd033-ee02-4b45-9074-f0fdb25abba1"
      },
      "source": [
        "from bs4 import BeautifulSoup\n",
        "import re\n",
        "from urllib.request import urlopen\n",
        "html = urlopen(\"https://hackmd.io/@IronZoomX/5_7\").read().decode('utf-8')\n",
        "html=html.replace(\" \",\"\")\n",
        "html=html.replace(\"\\n\",\"\")\n",
        "cal=0\n",
        "#print(html)\n",
        "soup = BeautifulSoup(html, features='lxml')\n",
        "s=re.findall('##\\d\\d\\d', html)\n",
        "for i in range(len(s)):\n",
        "  string=s[i]\n",
        "  string=string.replace(\"##\",\"\")\n",
        "  cal=cal+int(string[0:2])*int(string[2:])\n",
        "\n",
        "\n",
        "print(cal)\n"
      ],
      "execution_count": 36,
      "outputs": [
        {
          "output_type": "stream",
          "text": [
            "155\n"
          ],
          "name": "stdout"
        }
      ]
    }
  ]
}